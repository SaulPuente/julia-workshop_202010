{
 "cells": [
  {
   "cell_type": "code",
   "execution_count": 1,
   "metadata": {},
   "outputs": [
    {
     "data": {
      "text/html": [
       "<style>.container { width:90% !important; }</style>"
      ],
      "text/plain": [
       "<IPython.core.display.HTML object>"
      ]
     },
     "metadata": {},
     "output_type": "display_data"
    }
   ],
   "source": [
    "import pandas as pd #dataframe\n",
    "import os #direcciones\n",
    "import numpy as np #formato de variables la importar\n",
    "import glob# leer archivos con el mismo nombre de una ruta especifica\n",
    "import matplotlib.pyplot as plt # Graficar\n",
    "#import pandas.util.testing as tm\n",
    "import seaborn as sns \n",
    "import datetime as dt\n",
    "from matplotlib.pyplot import figure\n",
    "pd.set_option('display.max_rows', None) \n",
    "from seaborn import distplot \n",
    "from matplotlib.pyplot import figure\n",
    "#pd.set_option('display.max_colwidth', None)\n",
    "#pd.set_option('display.width', None)\n",
    "pd.set_option('display.max_columns',None)# Método uno para ver todas LAS COLUMNAS \n",
    "pd.options.display.max_columns = None # Método dos si no funciona el anterior Para ver .columns\n",
    "pd.options.display.max_rows = None\n",
    "pd.options.display.float_format = '{:.4f}'.format\n",
    "from IPython.core.display import display, HTML #Cambiar tamaño de la ventana\n",
    "display(HTML(\"<style>.container { width:90% !important; }</style>\"))"
   ]
  },
  {
   "cell_type": "markdown",
   "metadata": {},
   "source": [
    "# Introduction\n",
    "The sinking of the Titanic is one of the most infamous shipwrecks in history. On April 15, 1912, during her maiden voyage, the widely considered “unsinkable” RMS Titanic sank after colliding with an iceberg. Unfortunately, there weren’t enough lifeboats for everyone onboard, resulting in the death of 1502 out of 2224 passengers and crew.\n",
    "\n",
    "Data Dictionary\n",
    "\n",
    "* survival = Survival / 0 = No, 1 = Yes\n",
    "* pclass = Ticket class / 1 = 1st, 2 = 2nd, 3 = 3rd\n",
    "* sex = Sex\n",
    "* Age = Age in years\n",
    "* sibsp = of siblings / spouses aboard the Titanic\n",
    "* parch = of parents / children aboard the Titanic\n",
    "* ticket = Ticket number\n",
    "* fare = Passenger fare\n",
    "* cabin = Cabin number\n",
    "* embarked = Port of Embarkation / C = Cherbourg, Q = Queenstown, S = Southampton\n",
    "\n",
    "Variable Notes\n",
    "\n",
    "pclass: A proxy for socio-economic status (SES) /1st = Upper /2nd = Middle /3rd = Lower\n",
    "\n",
    "age: Age is fractional if less than 1. If the age is estimated, is it in the form of xx.5\n",
    "\n",
    "sibsp: The dataset defines family relations in this way... /Sibling = brother, sister, stepbrother, stepsister /Spouse = husband, wife (mistresses and fiancés were ignored)\n",
    "\n",
    "parch: The dataset defines family relations in this way... /Parent = mother, father /Child = daughter, son, stepdaughter, stepson /Some children travelled only with a nanny, therefore parch=0 for them.\n"
   ]
  },
  {
   "cell_type": "markdown",
   "metadata": {},
   "source": [
    "# Cargar el archivo"
   ]
  },
  {
   "cell_type": "code",
   "execution_count": 2,
   "metadata": {},
   "outputs": [
    {
     "data": {
      "text/plain": [
       "'C:\\\\Users\\\\nereida.combariza\\\\Documents\\\\00_Equipo\\\\08_clases'"
      ]
     },
     "execution_count": 2,
     "metadata": {},
     "output_type": "execute_result"
    }
   ],
   "source": [
    "os.getcwd()"
   ]
  },
  {
   "cell_type": "code",
   "execution_count": 3,
   "metadata": {},
   "outputs": [],
   "source": [
    "import seaborn as sns\n",
    "#titanic=sns.load_dataset('titanic')\n",
    "titanic = pd.read_csv(\"titanic.csv\")"
   ]
  },
  {
   "cell_type": "markdown",
   "metadata": {},
   "source": [
    "# Numero de columnas"
   ]
  },
  {
   "cell_type": "code",
   "execution_count": 4,
   "metadata": {},
   "outputs": [
    {
     "data": {
      "text/plain": [
       "Index(['survived', 'pclass', 'sex', 'age', 'sibsp', 'parch', 'fare',\n",
       "       'embarked', 'class', 'who', 'adult_male', 'deck', 'embark_town',\n",
       "       'alive', 'alone'],\n",
       "      dtype='object')"
      ]
     },
     "execution_count": 4,
     "metadata": {},
     "output_type": "execute_result"
    }
   ],
   "source": [
    "titanic.columns"
   ]
  },
  {
   "cell_type": "code",
   "execution_count": 5,
   "metadata": {},
   "outputs": [],
   "source": [
    "#colocar en minuscula\n",
    "titanic.columns = map(str.lower, titanic.columns)"
   ]
  },
  {
   "cell_type": "markdown",
   "metadata": {},
   "source": [
    "# Información básica del dataset"
   ]
  },
  {
   "cell_type": "code",
   "execution_count": 6,
   "metadata": {},
   "outputs": [
    {
     "data": {
      "text/html": [
       "<div>\n",
       "<style scoped>\n",
       "    .dataframe tbody tr th:only-of-type {\n",
       "        vertical-align: middle;\n",
       "    }\n",
       "\n",
       "    .dataframe tbody tr th {\n",
       "        vertical-align: top;\n",
       "    }\n",
       "\n",
       "    .dataframe thead th {\n",
       "        text-align: right;\n",
       "    }\n",
       "</style>\n",
       "<table border=\"1\" class=\"dataframe\">\n",
       "  <thead>\n",
       "    <tr style=\"text-align: right;\">\n",
       "      <th></th>\n",
       "      <th>survived</th>\n",
       "      <th>pclass</th>\n",
       "      <th>sex</th>\n",
       "      <th>age</th>\n",
       "      <th>sibsp</th>\n",
       "      <th>parch</th>\n",
       "      <th>fare</th>\n",
       "      <th>embarked</th>\n",
       "      <th>class</th>\n",
       "      <th>who</th>\n",
       "      <th>adult_male</th>\n",
       "      <th>deck</th>\n",
       "      <th>embark_town</th>\n",
       "      <th>alive</th>\n",
       "      <th>alone</th>\n",
       "    </tr>\n",
       "  </thead>\n",
       "  <tbody>\n",
       "    <tr>\n",
       "      <th>0</th>\n",
       "      <td>0</td>\n",
       "      <td>3</td>\n",
       "      <td>male</td>\n",
       "      <td>22.0000</td>\n",
       "      <td>1</td>\n",
       "      <td>0</td>\n",
       "      <td>7.2500</td>\n",
       "      <td>S</td>\n",
       "      <td>Third</td>\n",
       "      <td>man</td>\n",
       "      <td>True</td>\n",
       "      <td>NaN</td>\n",
       "      <td>Southampton</td>\n",
       "      <td>no</td>\n",
       "      <td>False</td>\n",
       "    </tr>\n",
       "    <tr>\n",
       "      <th>1</th>\n",
       "      <td>1</td>\n",
       "      <td>1</td>\n",
       "      <td>female</td>\n",
       "      <td>38.0000</td>\n",
       "      <td>1</td>\n",
       "      <td>0</td>\n",
       "      <td>71.2833</td>\n",
       "      <td>C</td>\n",
       "      <td>First</td>\n",
       "      <td>woman</td>\n",
       "      <td>False</td>\n",
       "      <td>C</td>\n",
       "      <td>Cherbourg</td>\n",
       "      <td>yes</td>\n",
       "      <td>False</td>\n",
       "    </tr>\n",
       "    <tr>\n",
       "      <th>2</th>\n",
       "      <td>1</td>\n",
       "      <td>3</td>\n",
       "      <td>female</td>\n",
       "      <td>26.0000</td>\n",
       "      <td>0</td>\n",
       "      <td>0</td>\n",
       "      <td>7.9250</td>\n",
       "      <td>S</td>\n",
       "      <td>Third</td>\n",
       "      <td>woman</td>\n",
       "      <td>False</td>\n",
       "      <td>NaN</td>\n",
       "      <td>Southampton</td>\n",
       "      <td>yes</td>\n",
       "      <td>True</td>\n",
       "    </tr>\n",
       "    <tr>\n",
       "      <th>3</th>\n",
       "      <td>1</td>\n",
       "      <td>1</td>\n",
       "      <td>female</td>\n",
       "      <td>35.0000</td>\n",
       "      <td>1</td>\n",
       "      <td>0</td>\n",
       "      <td>53.1000</td>\n",
       "      <td>S</td>\n",
       "      <td>First</td>\n",
       "      <td>woman</td>\n",
       "      <td>False</td>\n",
       "      <td>C</td>\n",
       "      <td>Southampton</td>\n",
       "      <td>yes</td>\n",
       "      <td>False</td>\n",
       "    </tr>\n",
       "    <tr>\n",
       "      <th>4</th>\n",
       "      <td>0</td>\n",
       "      <td>3</td>\n",
       "      <td>male</td>\n",
       "      <td>35.0000</td>\n",
       "      <td>0</td>\n",
       "      <td>0</td>\n",
       "      <td>8.0500</td>\n",
       "      <td>S</td>\n",
       "      <td>Third</td>\n",
       "      <td>man</td>\n",
       "      <td>True</td>\n",
       "      <td>NaN</td>\n",
       "      <td>Southampton</td>\n",
       "      <td>no</td>\n",
       "      <td>True</td>\n",
       "    </tr>\n",
       "  </tbody>\n",
       "</table>\n",
       "</div>"
      ],
      "text/plain": [
       "   survived  pclass     sex     age  sibsp  parch    fare embarked  class  \\\n",
       "0         0       3    male 22.0000      1      0  7.2500        S  Third   \n",
       "1         1       1  female 38.0000      1      0 71.2833        C  First   \n",
       "2         1       3  female 26.0000      0      0  7.9250        S  Third   \n",
       "3         1       1  female 35.0000      1      0 53.1000        S  First   \n",
       "4         0       3    male 35.0000      0      0  8.0500        S  Third   \n",
       "\n",
       "     who  adult_male deck  embark_town alive  alone  \n",
       "0    man        True  NaN  Southampton    no  False  \n",
       "1  woman       False    C    Cherbourg   yes  False  \n",
       "2  woman       False  NaN  Southampton   yes   True  \n",
       "3  woman       False    C  Southampton   yes  False  \n",
       "4    man        True  NaN  Southampton    no   True  "
      ]
     },
     "execution_count": 6,
     "metadata": {},
     "output_type": "execute_result"
    }
   ],
   "source": [
    "titanic.head()"
   ]
  },
  {
   "cell_type": "code",
   "execution_count": 7,
   "metadata": {},
   "outputs": [
    {
     "name": "stdout",
     "output_type": "stream",
     "text": [
      "<class 'pandas.core.frame.DataFrame'>\n",
      "RangeIndex: 891 entries, 0 to 890\n",
      "Data columns (total 15 columns):\n",
      " #   Column       Non-Null Count  Dtype  \n",
      "---  ------       --------------  -----  \n",
      " 0   survived     891 non-null    int64  \n",
      " 1   pclass       891 non-null    int64  \n",
      " 2   sex          891 non-null    object \n",
      " 3   age          714 non-null    float64\n",
      " 4   sibsp        891 non-null    int64  \n",
      " 5   parch        891 non-null    int64  \n",
      " 6   fare         891 non-null    float64\n",
      " 7   embarked     889 non-null    object \n",
      " 8   class        891 non-null    object \n",
      " 9   who          891 non-null    object \n",
      " 10  adult_male   891 non-null    bool   \n",
      " 11  deck         203 non-null    object \n",
      " 12  embark_town  889 non-null    object \n",
      " 13  alive        891 non-null    object \n",
      " 14  alone        891 non-null    bool   \n",
      "dtypes: bool(2), float64(2), int64(4), object(7)\n",
      "memory usage: 92.4+ KB\n"
     ]
    }
   ],
   "source": [
    "titanic.info()"
   ]
  },
  {
   "cell_type": "code",
   "execution_count": 8,
   "metadata": {},
   "outputs": [
    {
     "data": {
      "text/html": [
       "<div>\n",
       "<style scoped>\n",
       "    .dataframe tbody tr th:only-of-type {\n",
       "        vertical-align: middle;\n",
       "    }\n",
       "\n",
       "    .dataframe tbody tr th {\n",
       "        vertical-align: top;\n",
       "    }\n",
       "\n",
       "    .dataframe thead th {\n",
       "        text-align: right;\n",
       "    }\n",
       "</style>\n",
       "<table border=\"1\" class=\"dataframe\">\n",
       "  <thead>\n",
       "    <tr style=\"text-align: right;\">\n",
       "      <th></th>\n",
       "      <th>survived</th>\n",
       "      <th>pclass</th>\n",
       "      <th>age</th>\n",
       "      <th>sibsp</th>\n",
       "      <th>parch</th>\n",
       "      <th>fare</th>\n",
       "    </tr>\n",
       "  </thead>\n",
       "  <tbody>\n",
       "    <tr>\n",
       "      <th>count</th>\n",
       "      <td>891.0000</td>\n",
       "      <td>891.0000</td>\n",
       "      <td>714.0000</td>\n",
       "      <td>891.0000</td>\n",
       "      <td>891.0000</td>\n",
       "      <td>891.0000</td>\n",
       "    </tr>\n",
       "    <tr>\n",
       "      <th>mean</th>\n",
       "      <td>0.3838</td>\n",
       "      <td>2.3086</td>\n",
       "      <td>29.6991</td>\n",
       "      <td>0.5230</td>\n",
       "      <td>0.3816</td>\n",
       "      <td>32.2042</td>\n",
       "    </tr>\n",
       "    <tr>\n",
       "      <th>std</th>\n",
       "      <td>0.4866</td>\n",
       "      <td>0.8361</td>\n",
       "      <td>14.5265</td>\n",
       "      <td>1.1027</td>\n",
       "      <td>0.8061</td>\n",
       "      <td>49.6934</td>\n",
       "    </tr>\n",
       "    <tr>\n",
       "      <th>min</th>\n",
       "      <td>0.0000</td>\n",
       "      <td>1.0000</td>\n",
       "      <td>0.4200</td>\n",
       "      <td>0.0000</td>\n",
       "      <td>0.0000</td>\n",
       "      <td>0.0000</td>\n",
       "    </tr>\n",
       "    <tr>\n",
       "      <th>25%</th>\n",
       "      <td>0.0000</td>\n",
       "      <td>2.0000</td>\n",
       "      <td>20.1250</td>\n",
       "      <td>0.0000</td>\n",
       "      <td>0.0000</td>\n",
       "      <td>7.9104</td>\n",
       "    </tr>\n",
       "    <tr>\n",
       "      <th>50%</th>\n",
       "      <td>0.0000</td>\n",
       "      <td>3.0000</td>\n",
       "      <td>28.0000</td>\n",
       "      <td>0.0000</td>\n",
       "      <td>0.0000</td>\n",
       "      <td>14.4542</td>\n",
       "    </tr>\n",
       "    <tr>\n",
       "      <th>75%</th>\n",
       "      <td>1.0000</td>\n",
       "      <td>3.0000</td>\n",
       "      <td>38.0000</td>\n",
       "      <td>1.0000</td>\n",
       "      <td>0.0000</td>\n",
       "      <td>31.0000</td>\n",
       "    </tr>\n",
       "    <tr>\n",
       "      <th>max</th>\n",
       "      <td>1.0000</td>\n",
       "      <td>3.0000</td>\n",
       "      <td>80.0000</td>\n",
       "      <td>8.0000</td>\n",
       "      <td>6.0000</td>\n",
       "      <td>512.3292</td>\n",
       "    </tr>\n",
       "  </tbody>\n",
       "</table>\n",
       "</div>"
      ],
      "text/plain": [
       "       survived   pclass      age    sibsp    parch     fare\n",
       "count  891.0000 891.0000 714.0000 891.0000 891.0000 891.0000\n",
       "mean     0.3838   2.3086  29.6991   0.5230   0.3816  32.2042\n",
       "std      0.4866   0.8361  14.5265   1.1027   0.8061  49.6934\n",
       "min      0.0000   1.0000   0.4200   0.0000   0.0000   0.0000\n",
       "25%      0.0000   2.0000  20.1250   0.0000   0.0000   7.9104\n",
       "50%      0.0000   3.0000  28.0000   0.0000   0.0000  14.4542\n",
       "75%      1.0000   3.0000  38.0000   1.0000   0.0000  31.0000\n",
       "max      1.0000   3.0000  80.0000   8.0000   6.0000 512.3292"
      ]
     },
     "execution_count": 8,
     "metadata": {},
     "output_type": "execute_result"
    }
   ],
   "source": [
    "titanic.describe()"
   ]
  },
  {
   "cell_type": "code",
   "execution_count": 9,
   "metadata": {},
   "outputs": [
    {
     "data": {
      "text/plain": [
       "survived         int64\n",
       "pclass           int64\n",
       "sex             object\n",
       "age            float64\n",
       "sibsp            int64\n",
       "parch            int64\n",
       "fare           float64\n",
       "embarked        object\n",
       "class           object\n",
       "who             object\n",
       "adult_male        bool\n",
       "deck            object\n",
       "embark_town     object\n",
       "alive           object\n",
       "alone             bool\n",
       "dtype: object"
      ]
     },
     "execution_count": 9,
     "metadata": {},
     "output_type": "execute_result"
    }
   ],
   "source": [
    "#Check data type\n",
    "titanic.dtypes"
   ]
  },
  {
   "cell_type": "code",
   "execution_count": 10,
   "metadata": {},
   "outputs": [
    {
     "data": {
      "text/plain": [
       "<AxesSubplot:>"
      ]
     },
     "execution_count": 10,
     "metadata": {},
     "output_type": "execute_result"
    },
    {
     "data": {
      "image/png": "[encoded data removed]",
      "text/plain": [
       "<Figure size 720x360 with 3 Axes>"
      ]
     },
     "metadata": {
      "needs_background": "light"
     },
     "output_type": "display_data"
    }
   ],
   "source": [
    "import missingno as msno\n",
    "msno.bar(titanic,color=\"dodgerblue\", sort=\"ascending\", figsize=(10,5), fontsize=12)"
   ]
  },
  {
   "cell_type": "markdown",
   "metadata": {},
   "source": [
    "# Data Quality & Missing Value Assessment "
   ]
  },
  {
   "cell_type": "code",
   "execution_count": 11,
   "metadata": {},
   "outputs": [
    {
     "data": {
      "text/plain": [
       "survived         0\n",
       "pclass           0\n",
       "sex              0\n",
       "age            177\n",
       "sibsp            0\n",
       "parch            0\n",
       "fare             0\n",
       "embarked         2\n",
       "class            0\n",
       "who              0\n",
       "adult_male       0\n",
       "deck           688\n",
       "embark_town      2\n",
       "alive            0\n",
       "alone            0\n",
       "dtype: int64"
      ]
     },
     "execution_count": 11,
     "metadata": {},
     "output_type": "execute_result"
    }
   ],
   "source": [
    "titanic.isna().sum()"
   ]
  },
  {
   "cell_type": "code",
   "execution_count": 12,
   "metadata": {},
   "outputs": [
    {
     "data": {
      "text/plain": [
       "<AxesSubplot:>"
      ]
     },
     "execution_count": 12,
     "metadata": {},
     "output_type": "execute_result"
    },
    {
     "data": {
      "image/png": "[encoded data removed]",
      "text/plain": [
       "<Figure size 1800x720 with 2 Axes>"
      ]
     },
     "metadata": {
      "needs_background": "light"
     },
     "output_type": "display_data"
    }
   ],
   "source": [
    "# we can look at our missing value with matris that is provide us to understand those missing values are rondom or not\n",
    "msno.matrix(titanic)"
   ]
  },
  {
   "cell_type": "markdown",
   "metadata": {},
   "source": [
    "# Age - Missing Values "
   ]
  },
  {
   "cell_type": "code",
   "execution_count": 13,
   "metadata": {},
   "outputs": [
    {
     "data": {
      "text/plain": [
       "(177, 15)"
      ]
     },
     "execution_count": 13,
     "metadata": {},
     "output_type": "execute_result"
    }
   ],
   "source": [
    "titanic[titanic.age.isna()].shape"
   ]
  },
  {
   "cell_type": "code",
   "execution_count": 14,
   "metadata": {},
   "outputs": [
    {
     "data": {
      "text/html": [
       "<div>\n",
       "<style scoped>\n",
       "    .dataframe tbody tr th:only-of-type {\n",
       "        vertical-align: middle;\n",
       "    }\n",
       "\n",
       "    .dataframe tbody tr th {\n",
       "        vertical-align: top;\n",
       "    }\n",
       "\n",
       "    .dataframe thead th {\n",
       "        text-align: right;\n",
       "    }\n",
       "</style>\n",
       "<table border=\"1\" class=\"dataframe\">\n",
       "  <thead>\n",
       "    <tr style=\"text-align: right;\">\n",
       "      <th></th>\n",
       "      <th>survived</th>\n",
       "      <th>pclass</th>\n",
       "      <th>sex</th>\n",
       "      <th>age</th>\n",
       "      <th>sibsp</th>\n",
       "      <th>parch</th>\n",
       "      <th>fare</th>\n",
       "      <th>embarked</th>\n",
       "      <th>class</th>\n",
       "      <th>who</th>\n",
       "      <th>adult_male</th>\n",
       "      <th>deck</th>\n",
       "      <th>embark_town</th>\n",
       "      <th>alive</th>\n",
       "      <th>alone</th>\n",
       "    </tr>\n",
       "  </thead>\n",
       "  <tbody>\n",
       "    <tr>\n",
       "      <th>5</th>\n",
       "      <td>0</td>\n",
       "      <td>3</td>\n",
       "      <td>male</td>\n",
       "      <td>nan</td>\n",
       "      <td>0</td>\n",
       "      <td>0</td>\n",
       "      <td>8.4583</td>\n",
       "      <td>Q</td>\n",
       "      <td>Third</td>\n",
       "      <td>man</td>\n",
       "      <td>True</td>\n",
       "      <td>NaN</td>\n",
       "      <td>Queenstown</td>\n",
       "      <td>no</td>\n",
       "      <td>True</td>\n",
       "    </tr>\n",
       "    <tr>\n",
       "      <th>17</th>\n",
       "      <td>1</td>\n",
       "      <td>2</td>\n",
       "      <td>male</td>\n",
       "      <td>nan</td>\n",
       "      <td>0</td>\n",
       "      <td>0</td>\n",
       "      <td>13.0000</td>\n",
       "      <td>S</td>\n",
       "      <td>Second</td>\n",
       "      <td>man</td>\n",
       "      <td>True</td>\n",
       "      <td>NaN</td>\n",
       "      <td>Southampton</td>\n",
       "      <td>yes</td>\n",
       "      <td>True</td>\n",
       "    </tr>\n",
       "    <tr>\n",
       "      <th>19</th>\n",
       "      <td>1</td>\n",
       "      <td>3</td>\n",
       "      <td>female</td>\n",
       "      <td>nan</td>\n",
       "      <td>0</td>\n",
       "      <td>0</td>\n",
       "      <td>7.2250</td>\n",
       "      <td>C</td>\n",
       "      <td>Third</td>\n",
       "      <td>woman</td>\n",
       "      <td>False</td>\n",
       "      <td>NaN</td>\n",
       "      <td>Cherbourg</td>\n",
       "      <td>yes</td>\n",
       "      <td>True</td>\n",
       "    </tr>\n",
       "    <tr>\n",
       "      <th>26</th>\n",
       "      <td>0</td>\n",
       "      <td>3</td>\n",
       "      <td>male</td>\n",
       "      <td>nan</td>\n",
       "      <td>0</td>\n",
       "      <td>0</td>\n",
       "      <td>7.2250</td>\n",
       "      <td>C</td>\n",
       "      <td>Third</td>\n",
       "      <td>man</td>\n",
       "      <td>True</td>\n",
       "      <td>NaN</td>\n",
       "      <td>Cherbourg</td>\n",
       "      <td>no</td>\n",
       "      <td>True</td>\n",
       "    </tr>\n",
       "    <tr>\n",
       "      <th>28</th>\n",
       "      <td>1</td>\n",
       "      <td>3</td>\n",
       "      <td>female</td>\n",
       "      <td>nan</td>\n",
       "      <td>0</td>\n",
       "      <td>0</td>\n",
       "      <td>7.8792</td>\n",
       "      <td>Q</td>\n",
       "      <td>Third</td>\n",
       "      <td>woman</td>\n",
       "      <td>False</td>\n",
       "      <td>NaN</td>\n",
       "      <td>Queenstown</td>\n",
       "      <td>yes</td>\n",
       "      <td>True</td>\n",
       "    </tr>\n",
       "  </tbody>\n",
       "</table>\n",
       "</div>"
      ],
      "text/plain": [
       "    survived  pclass     sex  age  sibsp  parch    fare embarked   class  \\\n",
       "5          0       3    male  nan      0      0  8.4583        Q   Third   \n",
       "17         1       2    male  nan      0      0 13.0000        S  Second   \n",
       "19         1       3  female  nan      0      0  7.2250        C   Third   \n",
       "26         0       3    male  nan      0      0  7.2250        C   Third   \n",
       "28         1       3  female  nan      0      0  7.8792        Q   Third   \n",
       "\n",
       "      who  adult_male deck  embark_town alive  alone  \n",
       "5     man        True  NaN   Queenstown    no   True  \n",
       "17    man        True  NaN  Southampton   yes   True  \n",
       "19  woman       False  NaN    Cherbourg   yes   True  \n",
       "26    man        True  NaN    Cherbourg    no   True  \n",
       "28  woman       False  NaN   Queenstown   yes   True  "
      ]
     },
     "execution_count": 14,
     "metadata": {},
     "output_type": "execute_result"
    }
   ],
   "source": [
    "titanic[titanic.age.isna()].head()"
   ]
  },
  {
   "cell_type": "code",
   "execution_count": 15,
   "metadata": {},
   "outputs": [
    {
     "data": {
      "text/plain": [
       "19.869999999999997"
      ]
     },
     "execution_count": 15,
     "metadata": {},
     "output_type": "execute_result"
    }
   ],
   "source": [
    "# proportion of \"Age\" missing\n",
    "round(titanic[titanic.age.isna()].shape[0]/(titanic.shape[0]),4)*100"
   ]
  },
  {
   "cell_type": "markdown",
   "metadata": {},
   "source": [
    "~20% of entries for passenger age are missing. Let's see what the 'Age' variable looks like in general."
   ]
  },
  {
   "cell_type": "markdown",
   "metadata": {},
   "source": [
    "## Basic Visualizations "
   ]
  },
  {
   "cell_type": "code",
   "execution_count": 16,
   "metadata": {},
   "outputs": [
    {
     "data": {
      "image/png": "[encoded data removed]",
      "text/plain": [
       "<Figure size 432x288 with 1 Axes>"
      ]
     },
     "metadata": {
      "needs_background": "light"
     },
     "output_type": "display_data"
    }
   ],
   "source": [
    "ax = titanic[\"age\"].hist(bins=15, color='teal', alpha=0.8)\n",
    "ax.set(xlabel='age', ylabel='Count')\n",
    "plt.show()"
   ]
  },
  {
   "cell_type": "markdown",
   "metadata": {},
   "source": [
    "Since \"Age\" is (right) skewed, using the mean might give us biased results by filling in ages that are older than desired. To deal with this, we'll use the median to impute the missing values."
   ]
  },
  {
   "cell_type": "code",
   "execution_count": 17,
   "metadata": {},
   "outputs": [
    {
     "data": {
      "text/plain": [
       "28.0"
      ]
     },
     "execution_count": 17,
     "metadata": {},
     "output_type": "execute_result"
    }
   ],
   "source": [
    "# median age is 28 (as compared to mean which is ~30)\n",
    "titanic[\"age\"].median(skipna=True)"
   ]
  },
  {
   "cell_type": "markdown",
   "metadata": {},
   "source": [
    "## Cabin - Missing Values "
   ]
  },
  {
   "cell_type": "code",
   "execution_count": 18,
   "metadata": {},
   "outputs": [
    {
     "data": {
      "text/plain": [
       "(688, 15)"
      ]
     },
     "execution_count": 18,
     "metadata": {},
     "output_type": "execute_result"
    }
   ],
   "source": [
    "titanic[titanic.deck.isna()].shape"
   ]
  },
  {
   "cell_type": "code",
   "execution_count": 19,
   "metadata": {},
   "outputs": [
    {
     "data": {
      "text/plain": [
       "77.22"
      ]
     },
     "execution_count": 19,
     "metadata": {},
     "output_type": "execute_result"
    }
   ],
   "source": [
    "# proportion of \"cabin\" missing\n",
    "round(titanic[titanic.deck.isna()].shape[0]/titanic.shape[0],4)*100\n"
   ]
  },
  {
   "cell_type": "markdown",
   "metadata": {},
   "source": [
    "## 2.3 Embarked - Missing Values "
   ]
  },
  {
   "cell_type": "code",
   "execution_count": 20,
   "metadata": {},
   "outputs": [
    {
     "data": {
      "text/plain": [
       "0.22"
      ]
     },
     "execution_count": 20,
     "metadata": {},
     "output_type": "execute_result"
    }
   ],
   "source": [
    "# proportion of \"cabin\" missing\n",
    "round(titanic[titanic.embarked.isna()].shape[0]/titanic.shape[0],4)*100"
   ]
  },
  {
   "cell_type": "markdown",
   "metadata": {},
   "source": [
    "There are only 2 missing values for \"Embarked\", so we can just impute with the port where most people boarded."
   ]
  },
  {
   "cell_type": "code",
   "execution_count": 21,
   "metadata": {},
   "outputs": [
    {
     "data": {
      "image/png": "[encoded data removed]",
      "text/plain": [
       "<Figure size 432x288 with 1 Axes>"
      ]
     },
     "metadata": {
      "needs_background": "light"
     },
     "output_type": "display_data"
    }
   ],
   "source": [
    "sns.countplot(x='embarked',data=titanic,palette='Set2')\n",
    "plt.show()"
   ]
  },
  {
   "cell_type": "markdown",
   "metadata": {},
   "source": [
    "2.4 Final Adjustments to Data (Train & Test)"
   ]
  },
  {
   "cell_type": "code",
   "execution_count": 22,
   "metadata": {},
   "outputs": [
    {
     "data": {
      "text/plain": [
       "Index(['survived', 'pclass', 'sex', 'age', 'sibsp', 'parch', 'fare',\n",
       "       'embarked', 'class', 'who', 'adult_male', 'deck', 'embark_town',\n",
       "       'alive', 'alone'],\n",
       "      dtype='object')"
      ]
     },
     "execution_count": 22,
     "metadata": {},
     "output_type": "execute_result"
    }
   ],
   "source": [
    "titanic.columns"
   ]
  },
  {
   "cell_type": "code",
   "execution_count": 23,
   "metadata": {},
   "outputs": [],
   "source": [
    "train_data = titanic\n",
    "train_data[\"age\"].fillna(28, inplace=True)\n",
    "train_data[\"embarked\"].fillna(\"S\", inplace=True)\n",
    "#train_data.drop('cabin', axis=1, inplace=True)"
   ]
  },
  {
   "cell_type": "markdown",
   "metadata": {},
   "source": [
    "## Basic Visualizations"
   ]
  },
  {
   "cell_type": "code",
   "execution_count": 24,
   "metadata": {},
   "outputs": [
    {
     "data": {
      "text/plain": [
       "<AxesSubplot:>"
      ]
     },
     "execution_count": 24,
     "metadata": {},
     "output_type": "execute_result"
    },
    {
     "data": {
      "image/png": "[encoded data removed]",
      "text/plain": [
       "<Figure size 432x288 with 1 Axes>"
      ]
     },
     "metadata": {
      "needs_background": "light"
     },
     "output_type": "display_data"
    }
   ],
   "source": [
    "sns.heatmap(titanic.isnull(),yticklabels=False,cbar=False,cmap='viridis')"
   ]
  },
  {
   "cell_type": "markdown",
   "metadata": {},
   "source": [
    "Let us try to know if the dependent variable ‘Survived’ has any relation with the variable ‘Sex’."
   ]
  },
  {
   "cell_type": "code",
   "execution_count": 25,
   "metadata": {},
   "outputs": [
    {
     "name": "stderr",
     "output_type": "stream",
     "text": [
      "C:\\ProgramData\\Anaconda3\\lib\\site-packages\\seaborn\\categorical.py:3704: UserWarning: The `factorplot` function has been renamed to `catplot`. The original name will be removed in a future release. Please update your code. Note that the default `kind` in `factorplot` (`'point'`) has changed `'strip'` in `catplot`.\n",
      "  warnings.warn(msg)\n"
     ]
    },
    {
     "data": {
      "text/plain": [
       "<seaborn.axisgrid.FacetGrid at 0x1d0a465e448>"
      ]
     },
     "execution_count": 25,
     "metadata": {},
     "output_type": "execute_result"
    },
    {
     "data": {
      "image/png": "[encoded data removed]",
      "text/plain": [
       "<Figure size 720x360 with 2 Axes>"
      ]
     },
     "metadata": {
      "needs_background": "light"
     },
     "output_type": "display_data"
    }
   ],
   "source": [
    "sns.factorplot(x='survived',col='sex',kind='count',data=titanic)"
   ]
  },
  {
   "cell_type": "markdown",
   "metadata": {},
   "source": [
    "Inference: As we all know from the movie as well as the story of titanic females were given priority while saving passengers. The above graph also tells us the same story. More number of male passengers have died than female ones."
   ]
  },
  {
   "cell_type": "code",
   "execution_count": 26,
   "metadata": {},
   "outputs": [
    {
     "data": {
      "text/plain": [
       "<AxesSubplot:xlabel='survived', ylabel='count'>"
      ]
     },
     "execution_count": 26,
     "metadata": {},
     "output_type": "execute_result"
    },
    {
     "data": {
      "image/png": "[encoded data removed]",
      "text/plain": [
       "<Figure size 432x288 with 1 Axes>"
      ]
     },
     "metadata": {
      "needs_background": "light"
     },
     "output_type": "display_data"
    }
   ],
   "source": [
    "sns.countplot(x='survived',hue='pclass',data=titanic)"
   ]
  },
  {
   "cell_type": "markdown",
   "metadata": {},
   "source": [
    "Inference: The graph tells us that Pclass 3 were more likely to be survived. It was meant for the richer people while Pclass 1 were the most likely victims which was relatively cheaper than class 3."
   ]
  },
  {
   "cell_type": "code",
   "execution_count": 27,
   "metadata": {},
   "outputs": [
    {
     "data": {
      "text/plain": [
       "<AxesSubplot:xlabel='sibsp', ylabel='count'>"
      ]
     },
     "execution_count": 27,
     "metadata": {},
     "output_type": "execute_result"
    },
    {
     "data": {
      "image/png": "[encoded data removed]",
      "text/plain": [
       "<Figure size 432x288 with 1 Axes>"
      ]
     },
     "metadata": {
      "needs_background": "light"
     },
     "output_type": "display_data"
    }
   ],
   "source": [
    "sns.countplot(x='sibsp',data=titanic)"
   ]
  },
  {
   "cell_type": "markdown",
   "metadata": {},
   "source": [
    "Inference: Here ‘SibSp’ variable refers to the number of sibling or spouse the person was accompanied with. We can see most of the people came alone."
   ]
  },
  {
   "cell_type": "code",
   "execution_count": 28,
   "metadata": {},
   "outputs": [
    {
     "data": {
      "text/plain": [
       "<AxesSubplot:xlabel='pclass', ylabel='age'>"
      ]
     },
     "execution_count": 28,
     "metadata": {},
     "output_type": "execute_result"
    },
    {
     "data": {
      "image/png": "[encoded data removed]",
      "text/plain": [
       "<Figure size 432x288 with 1 Axes>"
      ]
     },
     "metadata": {
      "needs_background": "light"
     },
     "output_type": "display_data"
    }
   ],
   "source": [
    "sns.boxplot(x='pclass',y='age',data=titanic,palette='winter')"
   ]
  },
  {
   "cell_type": "markdown",
   "metadata": {},
   "source": [
    "# Exploratory Data Analysis\n",
    "\n",
    "Question 1: What is the correlations between outcome and all other parameters?"
   ]
  },
  {
   "cell_type": "code",
   "execution_count": 29,
   "metadata": {},
   "outputs": [
    {
     "data": {
      "text/html": [
       "<style  type=\"text/css\" >\n",
       "#T_0ce8f63e_16fc_11eb_98c8_40ec993079b9row0_col0,#T_0ce8f63e_16fc_11eb_98c8_40ec993079b9row1_col2{\n",
       "            background-color:  #fcfe66;\n",
       "            color:  #000000;\n",
       "        }#T_0ce8f63e_16fc_11eb_98c8_40ec993079b9row0_col1{\n",
       "            background-color:  #d2e866;\n",
       "            color:  #000000;\n",
       "        }#T_0ce8f63e_16fc_11eb_98c8_40ec993079b9row0_col2{\n",
       "            background-color:  #f2f866;\n",
       "            color:  #000000;\n",
       "        }#T_0ce8f63e_16fc_11eb_98c8_40ec993079b9row0_col3{\n",
       "            background-color:  #d8ec66;\n",
       "            color:  #000000;\n",
       "        }#T_0ce8f63e_16fc_11eb_98c8_40ec993079b9row0_col4,#T_0ce8f63e_16fc_11eb_98c8_40ec993079b9row2_col3{\n",
       "            background-color:  #e8f466;\n",
       "            color:  #000000;\n",
       "        }#T_0ce8f63e_16fc_11eb_98c8_40ec993079b9row1_col0,#T_0ce8f63e_16fc_11eb_98c8_40ec993079b9row3_col0,#T_0ce8f63e_16fc_11eb_98c8_40ec993079b9row3_col1,#T_0ce8f63e_16fc_11eb_98c8_40ec993079b9row3_col2,#T_0ce8f63e_16fc_11eb_98c8_40ec993079b9row3_col3,#T_0ce8f63e_16fc_11eb_98c8_40ec993079b9row3_col4,#T_0ce8f63e_16fc_11eb_98c8_40ec993079b9row4_col0,#T_0ce8f63e_16fc_11eb_98c8_40ec993079b9row4_col2,#T_0ce8f63e_16fc_11eb_98c8_40ec993079b9row4_col3,#T_0ce8f63e_16fc_11eb_98c8_40ec993079b9row4_col4{\n",
       "            background-color:  #ffff66;\n",
       "            color:  #000000;\n",
       "        }#T_0ce8f63e_16fc_11eb_98c8_40ec993079b9row1_col1,#T_0ce8f63e_16fc_11eb_98c8_40ec993079b9row6_col0{\n",
       "            background-color:  #f9fc66;\n",
       "            color:  #000000;\n",
       "        }#T_0ce8f63e_16fc_11eb_98c8_40ec993079b9row1_col3,#T_0ce8f63e_16fc_11eb_98c8_40ec993079b9row1_col4{\n",
       "            background-color:  #fbfd66;\n",
       "            color:  #000000;\n",
       "        }#T_0ce8f63e_16fc_11eb_98c8_40ec993079b9row2_col0,#T_0ce8f63e_16fc_11eb_98c8_40ec993079b9row5_col1{\n",
       "            background-color:  #e6f266;\n",
       "            color:  #000000;\n",
       "        }#T_0ce8f63e_16fc_11eb_98c8_40ec993079b9row2_col1{\n",
       "            background-color:  #f0f866;\n",
       "            color:  #000000;\n",
       "        }#T_0ce8f63e_16fc_11eb_98c8_40ec993079b9row2_col2{\n",
       "            background-color:  #eef666;\n",
       "            color:  #000000;\n",
       "        }#T_0ce8f63e_16fc_11eb_98c8_40ec993079b9row2_col4,#T_0ce8f63e_16fc_11eb_98c8_40ec993079b9row7_col0{\n",
       "            background-color:  #edf666;\n",
       "            color:  #000000;\n",
       "        }#T_0ce8f63e_16fc_11eb_98c8_40ec993079b9row4_col1{\n",
       "            background-color:  #fefe66;\n",
       "            color:  #000000;\n",
       "        }#T_0ce8f63e_16fc_11eb_98c8_40ec993079b9row5_col0{\n",
       "            background-color:  #e3f166;\n",
       "            color:  #000000;\n",
       "        }#T_0ce8f63e_16fc_11eb_98c8_40ec993079b9row5_col2{\n",
       "            background-color:  #ecf666;\n",
       "            color:  #000000;\n",
       "        }#T_0ce8f63e_16fc_11eb_98c8_40ec993079b9row5_col3{\n",
       "            background-color:  #f8fc66;\n",
       "            color:  #000000;\n",
       "        }#T_0ce8f63e_16fc_11eb_98c8_40ec993079b9row5_col4{\n",
       "            background-color:  #ebf566;\n",
       "            color:  #000000;\n",
       "        }#T_0ce8f63e_16fc_11eb_98c8_40ec993079b9row6_col1{\n",
       "            background-color:  #cce666;\n",
       "            color:  #000000;\n",
       "        }#T_0ce8f63e_16fc_11eb_98c8_40ec993079b9row6_col2{\n",
       "            background-color:  #e4f266;\n",
       "            color:  #000000;\n",
       "        }#T_0ce8f63e_16fc_11eb_98c8_40ec993079b9row6_col3{\n",
       "            background-color:  #bede66;\n",
       "            color:  #000000;\n",
       "        }#T_0ce8f63e_16fc_11eb_98c8_40ec993079b9row6_col4{\n",
       "            background-color:  #dbed66;\n",
       "            color:  #000000;\n",
       "        }#T_0ce8f63e_16fc_11eb_98c8_40ec993079b9row7_col1{\n",
       "            background-color:  #bdde66;\n",
       "            color:  #000000;\n",
       "        }#T_0ce8f63e_16fc_11eb_98c8_40ec993079b9row7_col2{\n",
       "            background-color:  #d3e966;\n",
       "            color:  #000000;\n",
       "        }#T_0ce8f63e_16fc_11eb_98c8_40ec993079b9row7_col3,#T_0ce8f63e_16fc_11eb_98c8_40ec993079b9row8_col1{\n",
       "            background-color:  #dcee66;\n",
       "            color:  #000000;\n",
       "        }#T_0ce8f63e_16fc_11eb_98c8_40ec993079b9row7_col4{\n",
       "            background-color:  #d1e866;\n",
       "            color:  #000000;\n",
       "        }#T_0ce8f63e_16fc_11eb_98c8_40ec993079b9row8_col0{\n",
       "            background-color:  #52a866;\n",
       "            color:  #000000;\n",
       "        }#T_0ce8f63e_16fc_11eb_98c8_40ec993079b9row8_col2{\n",
       "            background-color:  #81c066;\n",
       "            color:  #000000;\n",
       "        }#T_0ce8f63e_16fc_11eb_98c8_40ec993079b9row8_col3{\n",
       "            background-color:  #b0d866;\n",
       "            color:  #000000;\n",
       "        }#T_0ce8f63e_16fc_11eb_98c8_40ec993079b9row8_col4{\n",
       "            background-color:  #9acc66;\n",
       "            color:  #000000;\n",
       "        }#T_0ce8f63e_16fc_11eb_98c8_40ec993079b9row9_col0,#T_0ce8f63e_16fc_11eb_98c8_40ec993079b9row9_col1,#T_0ce8f63e_16fc_11eb_98c8_40ec993079b9row9_col2,#T_0ce8f63e_16fc_11eb_98c8_40ec993079b9row9_col3,#T_0ce8f63e_16fc_11eb_98c8_40ec993079b9row9_col4{\n",
       "            background-color:  #008066;\n",
       "            color:  #f1f1f1;\n",
       "        }</style><table id=\"T_0ce8f63e_16fc_11eb_98c8_40ec993079b9\" ><thead>    <tr>        <th class=\"blank\" ></th>        <th class=\"index_name level0\" >sex</th>        <th class=\"col_heading level0 col0\" colspan=2>female</th>        <th class=\"col_heading level0 col2\" colspan=2>male</th>        <th class=\"col_heading level0 col4\" >All</th>    </tr>    <tr>        <th class=\"blank\" ></th>        <th class=\"index_name level1\" >survived</th>        <th class=\"col_heading level1 col0\" >0</th>        <th class=\"col_heading level1 col1\" >1</th>        <th class=\"col_heading level1 col2\" >0</th>        <th class=\"col_heading level1 col3\" >1</th>        <th class=\"col_heading level1 col4\" ></th>    </tr>    <tr>        <th class=\"index_name level0\" >embarked</th>        <th class=\"index_name level1\" >pclass</th>        <th class=\"blank\" ></th>        <th class=\"blank\" ></th>        <th class=\"blank\" ></th>        <th class=\"blank\" ></th>        <th class=\"blank\" ></th>    </tr></thead><tbody>\n",
       "                <tr>\n",
       "                        <th id=\"T_0ce8f63e_16fc_11eb_98c8_40ec993079b9level0_row0\" class=\"row_heading level0 row0\" rowspan=3>C</th>\n",
       "                        <th id=\"T_0ce8f63e_16fc_11eb_98c8_40ec993079b9level1_row0\" class=\"row_heading level1 row0\" >1</th>\n",
       "                        <td id=\"T_0ce8f63e_16fc_11eb_98c8_40ec993079b9row0_col0\" class=\"data row0 col0\" >1</td>\n",
       "                        <td id=\"T_0ce8f63e_16fc_11eb_98c8_40ec993079b9row0_col1\" class=\"data row0 col1\" >42</td>\n",
       "                        <td id=\"T_0ce8f63e_16fc_11eb_98c8_40ec993079b9row0_col2\" class=\"data row0 col2\" >25</td>\n",
       "                        <td id=\"T_0ce8f63e_16fc_11eb_98c8_40ec993079b9row0_col3\" class=\"data row0 col3\" >17</td>\n",
       "                        <td id=\"T_0ce8f63e_16fc_11eb_98c8_40ec993079b9row0_col4\" class=\"data row0 col4\" >85</td>\n",
       "            </tr>\n",
       "            <tr>\n",
       "                                <th id=\"T_0ce8f63e_16fc_11eb_98c8_40ec993079b9level1_row1\" class=\"row_heading level1 row1\" >2</th>\n",
       "                        <td id=\"T_0ce8f63e_16fc_11eb_98c8_40ec993079b9row1_col0\" class=\"data row1 col0\" >0</td>\n",
       "                        <td id=\"T_0ce8f63e_16fc_11eb_98c8_40ec993079b9row1_col1\" class=\"data row1 col1\" >7</td>\n",
       "                        <td id=\"T_0ce8f63e_16fc_11eb_98c8_40ec993079b9row1_col2\" class=\"data row1 col2\" >8</td>\n",
       "                        <td id=\"T_0ce8f63e_16fc_11eb_98c8_40ec993079b9row1_col3\" class=\"data row1 col3\" >2</td>\n",
       "                        <td id=\"T_0ce8f63e_16fc_11eb_98c8_40ec993079b9row1_col4\" class=\"data row1 col4\" >17</td>\n",
       "            </tr>\n",
       "            <tr>\n",
       "                                <th id=\"T_0ce8f63e_16fc_11eb_98c8_40ec993079b9level1_row2\" class=\"row_heading level1 row2\" >3</th>\n",
       "                        <td id=\"T_0ce8f63e_16fc_11eb_98c8_40ec993079b9row2_col0\" class=\"data row2 col0\" >8</td>\n",
       "                        <td id=\"T_0ce8f63e_16fc_11eb_98c8_40ec993079b9row2_col1\" class=\"data row2 col1\" >15</td>\n",
       "                        <td id=\"T_0ce8f63e_16fc_11eb_98c8_40ec993079b9row2_col2\" class=\"data row2 col2\" >33</td>\n",
       "                        <td id=\"T_0ce8f63e_16fc_11eb_98c8_40ec993079b9row2_col3\" class=\"data row2 col3\" >10</td>\n",
       "                        <td id=\"T_0ce8f63e_16fc_11eb_98c8_40ec993079b9row2_col4\" class=\"data row2 col4\" >66</td>\n",
       "            </tr>\n",
       "            <tr>\n",
       "                        <th id=\"T_0ce8f63e_16fc_11eb_98c8_40ec993079b9level0_row3\" class=\"row_heading level0 row3\" rowspan=3>Q</th>\n",
       "                        <th id=\"T_0ce8f63e_16fc_11eb_98c8_40ec993079b9level1_row3\" class=\"row_heading level1 row3\" >1</th>\n",
       "                        <td id=\"T_0ce8f63e_16fc_11eb_98c8_40ec993079b9row3_col0\" class=\"data row3 col0\" >0</td>\n",
       "                        <td id=\"T_0ce8f63e_16fc_11eb_98c8_40ec993079b9row3_col1\" class=\"data row3 col1\" >1</td>\n",
       "                        <td id=\"T_0ce8f63e_16fc_11eb_98c8_40ec993079b9row3_col2\" class=\"data row3 col2\" >1</td>\n",
       "                        <td id=\"T_0ce8f63e_16fc_11eb_98c8_40ec993079b9row3_col3\" class=\"data row3 col3\" >0</td>\n",
       "                        <td id=\"T_0ce8f63e_16fc_11eb_98c8_40ec993079b9row3_col4\" class=\"data row3 col4\" >2</td>\n",
       "            </tr>\n",
       "            <tr>\n",
       "                                <th id=\"T_0ce8f63e_16fc_11eb_98c8_40ec993079b9level1_row4\" class=\"row_heading level1 row4\" >2</th>\n",
       "                        <td id=\"T_0ce8f63e_16fc_11eb_98c8_40ec993079b9row4_col0\" class=\"data row4 col0\" >0</td>\n",
       "                        <td id=\"T_0ce8f63e_16fc_11eb_98c8_40ec993079b9row4_col1\" class=\"data row4 col1\" >2</td>\n",
       "                        <td id=\"T_0ce8f63e_16fc_11eb_98c8_40ec993079b9row4_col2\" class=\"data row4 col2\" >1</td>\n",
       "                        <td id=\"T_0ce8f63e_16fc_11eb_98c8_40ec993079b9row4_col3\" class=\"data row4 col3\" >0</td>\n",
       "                        <td id=\"T_0ce8f63e_16fc_11eb_98c8_40ec993079b9row4_col4\" class=\"data row4 col4\" >3</td>\n",
       "            </tr>\n",
       "            <tr>\n",
       "                                <th id=\"T_0ce8f63e_16fc_11eb_98c8_40ec993079b9level1_row5\" class=\"row_heading level1 row5\" >3</th>\n",
       "                        <td id=\"T_0ce8f63e_16fc_11eb_98c8_40ec993079b9row5_col0\" class=\"data row5 col0\" >9</td>\n",
       "                        <td id=\"T_0ce8f63e_16fc_11eb_98c8_40ec993079b9row5_col1\" class=\"data row5 col1\" >24</td>\n",
       "                        <td id=\"T_0ce8f63e_16fc_11eb_98c8_40ec993079b9row5_col2\" class=\"data row5 col2\" >36</td>\n",
       "                        <td id=\"T_0ce8f63e_16fc_11eb_98c8_40ec993079b9row5_col3\" class=\"data row5 col3\" >3</td>\n",
       "                        <td id=\"T_0ce8f63e_16fc_11eb_98c8_40ec993079b9row5_col4\" class=\"data row5 col4\" >72</td>\n",
       "            </tr>\n",
       "            <tr>\n",
       "                        <th id=\"T_0ce8f63e_16fc_11eb_98c8_40ec993079b9level0_row6\" class=\"row_heading level0 row6\" rowspan=3>S</th>\n",
       "                        <th id=\"T_0ce8f63e_16fc_11eb_98c8_40ec993079b9level1_row6\" class=\"row_heading level1 row6\" >1</th>\n",
       "                        <td id=\"T_0ce8f63e_16fc_11eb_98c8_40ec993079b9row6_col0\" class=\"data row6 col0\" >2</td>\n",
       "                        <td id=\"T_0ce8f63e_16fc_11eb_98c8_40ec993079b9row6_col1\" class=\"data row6 col1\" >48</td>\n",
       "                        <td id=\"T_0ce8f63e_16fc_11eb_98c8_40ec993079b9row6_col2\" class=\"data row6 col2\" >51</td>\n",
       "                        <td id=\"T_0ce8f63e_16fc_11eb_98c8_40ec993079b9row6_col3\" class=\"data row6 col3\" >28</td>\n",
       "                        <td id=\"T_0ce8f63e_16fc_11eb_98c8_40ec993079b9row6_col4\" class=\"data row6 col4\" >129</td>\n",
       "            </tr>\n",
       "            <tr>\n",
       "                                <th id=\"T_0ce8f63e_16fc_11eb_98c8_40ec993079b9level1_row7\" class=\"row_heading level1 row7\" >2</th>\n",
       "                        <td id=\"T_0ce8f63e_16fc_11eb_98c8_40ec993079b9row7_col0\" class=\"data row7 col0\" >6</td>\n",
       "                        <td id=\"T_0ce8f63e_16fc_11eb_98c8_40ec993079b9row7_col1\" class=\"data row7 col1\" >61</td>\n",
       "                        <td id=\"T_0ce8f63e_16fc_11eb_98c8_40ec993079b9row7_col2\" class=\"data row7 col2\" >82</td>\n",
       "                        <td id=\"T_0ce8f63e_16fc_11eb_98c8_40ec993079b9row7_col3\" class=\"data row7 col3\" >15</td>\n",
       "                        <td id=\"T_0ce8f63e_16fc_11eb_98c8_40ec993079b9row7_col4\" class=\"data row7 col4\" >164</td>\n",
       "            </tr>\n",
       "            <tr>\n",
       "                                <th id=\"T_0ce8f63e_16fc_11eb_98c8_40ec993079b9level1_row8\" class=\"row_heading level1 row8\" >3</th>\n",
       "                        <td id=\"T_0ce8f63e_16fc_11eb_98c8_40ec993079b9row8_col0\" class=\"data row8 col0\" >55</td>\n",
       "                        <td id=\"T_0ce8f63e_16fc_11eb_98c8_40ec993079b9row8_col1\" class=\"data row8 col1\" >33</td>\n",
       "                        <td id=\"T_0ce8f63e_16fc_11eb_98c8_40ec993079b9row8_col2\" class=\"data row8 col2\" >231</td>\n",
       "                        <td id=\"T_0ce8f63e_16fc_11eb_98c8_40ec993079b9row8_col3\" class=\"data row8 col3\" >34</td>\n",
       "                        <td id=\"T_0ce8f63e_16fc_11eb_98c8_40ec993079b9row8_col4\" class=\"data row8 col4\" >353</td>\n",
       "            </tr>\n",
       "            <tr>\n",
       "                        <th id=\"T_0ce8f63e_16fc_11eb_98c8_40ec993079b9level0_row9\" class=\"row_heading level0 row9\" >All</th>\n",
       "                        <th id=\"T_0ce8f63e_16fc_11eb_98c8_40ec993079b9level1_row9\" class=\"row_heading level1 row9\" ></th>\n",
       "                        <td id=\"T_0ce8f63e_16fc_11eb_98c8_40ec993079b9row9_col0\" class=\"data row9 col0\" >81</td>\n",
       "                        <td id=\"T_0ce8f63e_16fc_11eb_98c8_40ec993079b9row9_col1\" class=\"data row9 col1\" >233</td>\n",
       "                        <td id=\"T_0ce8f63e_16fc_11eb_98c8_40ec993079b9row9_col2\" class=\"data row9 col2\" >468</td>\n",
       "                        <td id=\"T_0ce8f63e_16fc_11eb_98c8_40ec993079b9row9_col3\" class=\"data row9 col3\" >109</td>\n",
       "                        <td id=\"T_0ce8f63e_16fc_11eb_98c8_40ec993079b9row9_col4\" class=\"data row9 col4\" >891</td>\n",
       "            </tr>\n",
       "    </tbody></table>"
      ],
      "text/plain": [
       "<pandas.io.formats.style.Styler at 0x1d0a49af948>"
      ]
     },
     "execution_count": 29,
     "metadata": {},
     "output_type": "execute_result"
    }
   ],
   "source": [
    "pd.crosstab([titanic.embarked,titanic.pclass],[titanic.sex,titanic.survived],margins=True).style.background_gradient(cmap='summer_r')"
   ]
  },
  {
   "cell_type": "markdown",
   "metadata": {},
   "source": [
    "Question 1 Comment:\n",
    "The highest number of women and men who lost their lives are 3rd class passengers at Southampton Embarkation port.\n",
    "\n",
    "The number of people who lost their lives was in the 3rd class most in total."
   ]
  },
  {
   "cell_type": "markdown",
   "metadata": {},
   "source": [
    "Question 2: What are the Passengers' survival percentages by class and gender?"
   ]
  },
  {
   "cell_type": "code",
   "execution_count": 30,
   "metadata": {},
   "outputs": [
    {
     "data": {
      "text/html": [
       "<style  type=\"text/css\" >\n",
       "#T_0cfb1cae_16fc_11eb_afab_40ec993079b9row0_col0,#T_0cfb1cae_16fc_11eb_afab_40ec993079b9row0_col1,#T_0cfb1cae_16fc_11eb_afab_40ec993079b9row0_col3,#T_0cfb1cae_16fc_11eb_afab_40ec993079b9row3_col2{\n",
       "            background-color:  #ffff66;\n",
       "            color:  #000000;\n",
       "        }#T_0cfb1cae_16fc_11eb_afab_40ec993079b9row0_col2,#T_0cfb1cae_16fc_11eb_afab_40ec993079b9row1_col2{\n",
       "            background-color:  #f1f866;\n",
       "            color:  #000000;\n",
       "        }#T_0cfb1cae_16fc_11eb_afab_40ec993079b9row1_col0{\n",
       "            background-color:  #96cb66;\n",
       "            color:  #000000;\n",
       "        }#T_0cfb1cae_16fc_11eb_afab_40ec993079b9row1_col1{\n",
       "            background-color:  #a3d166;\n",
       "            color:  #000000;\n",
       "        }#T_0cfb1cae_16fc_11eb_afab_40ec993079b9row1_col3{\n",
       "            background-color:  #cfe766;\n",
       "            color:  #000000;\n",
       "        }#T_0cfb1cae_16fc_11eb_afab_40ec993079b9row2_col0{\n",
       "            background-color:  #a7d366;\n",
       "            color:  #000000;\n",
       "        }#T_0cfb1cae_16fc_11eb_afab_40ec993079b9row2_col1,#T_0cfb1cae_16fc_11eb_afab_40ec993079b9row2_col3{\n",
       "            background-color:  #85c266;\n",
       "            color:  #000000;\n",
       "        }#T_0cfb1cae_16fc_11eb_afab_40ec993079b9row2_col2{\n",
       "            background-color:  #6eb666;\n",
       "            color:  #000000;\n",
       "        }#T_0cfb1cae_16fc_11eb_afab_40ec993079b9row3_col0{\n",
       "            background-color:  #cde666;\n",
       "            color:  #000000;\n",
       "        }#T_0cfb1cae_16fc_11eb_afab_40ec993079b9row3_col1{\n",
       "            background-color:  #f0f866;\n",
       "            color:  #000000;\n",
       "        }#T_0cfb1cae_16fc_11eb_afab_40ec993079b9row3_col3{\n",
       "            background-color:  #f7fb66;\n",
       "            color:  #000000;\n",
       "        }#T_0cfb1cae_16fc_11eb_afab_40ec993079b9row4_col0,#T_0cfb1cae_16fc_11eb_afab_40ec993079b9row4_col1,#T_0cfb1cae_16fc_11eb_afab_40ec993079b9row4_col2,#T_0cfb1cae_16fc_11eb_afab_40ec993079b9row4_col3{\n",
       "            background-color:  #008066;\n",
       "            color:  #f1f1f1;\n",
       "        }</style><table id=\"T_0cfb1cae_16fc_11eb_afab_40ec993079b9\" ><thead>    <tr>        <th class=\"blank\" ></th>        <th class=\"index_name level0\" >pclass</th>        <th class=\"col_heading level0 col0\" >1</th>        <th class=\"col_heading level0 col1\" >2</th>        <th class=\"col_heading level0 col2\" >3</th>        <th class=\"col_heading level0 col3\" >All</th>    </tr>    <tr>        <th class=\"index_name level0\" >sex</th>        <th class=\"index_name level1\" >survived</th>        <th class=\"blank\" ></th>        <th class=\"blank\" ></th>        <th class=\"blank\" ></th>        <th class=\"blank\" ></th>    </tr></thead><tbody>\n",
       "                <tr>\n",
       "                        <th id=\"T_0cfb1cae_16fc_11eb_afab_40ec993079b9level0_row0\" class=\"row_heading level0 row0\" rowspan=2>female</th>\n",
       "                        <th id=\"T_0cfb1cae_16fc_11eb_afab_40ec993079b9level1_row0\" class=\"row_heading level1 row0\" >0</th>\n",
       "                        <td id=\"T_0cfb1cae_16fc_11eb_afab_40ec993079b9row0_col0\" class=\"data row0 col0\" >3</td>\n",
       "                        <td id=\"T_0cfb1cae_16fc_11eb_afab_40ec993079b9row0_col1\" class=\"data row0 col1\" >6</td>\n",
       "                        <td id=\"T_0cfb1cae_16fc_11eb_afab_40ec993079b9row0_col2\" class=\"data row0 col2\" >72</td>\n",
       "                        <td id=\"T_0cfb1cae_16fc_11eb_afab_40ec993079b9row0_col3\" class=\"data row0 col3\" >81</td>\n",
       "            </tr>\n",
       "            <tr>\n",
       "                                <th id=\"T_0cfb1cae_16fc_11eb_afab_40ec993079b9level1_row1\" class=\"row_heading level1 row1\" >1</th>\n",
       "                        <td id=\"T_0cfb1cae_16fc_11eb_afab_40ec993079b9row1_col0\" class=\"data row1 col0\" >91</td>\n",
       "                        <td id=\"T_0cfb1cae_16fc_11eb_afab_40ec993079b9row1_col1\" class=\"data row1 col1\" >70</td>\n",
       "                        <td id=\"T_0cfb1cae_16fc_11eb_afab_40ec993079b9row1_col2\" class=\"data row1 col2\" >72</td>\n",
       "                        <td id=\"T_0cfb1cae_16fc_11eb_afab_40ec993079b9row1_col3\" class=\"data row1 col3\" >233</td>\n",
       "            </tr>\n",
       "            <tr>\n",
       "                        <th id=\"T_0cfb1cae_16fc_11eb_afab_40ec993079b9level0_row2\" class=\"row_heading level0 row2\" rowspan=2>male</th>\n",
       "                        <th id=\"T_0cfb1cae_16fc_11eb_afab_40ec993079b9level1_row2\" class=\"row_heading level1 row2\" >0</th>\n",
       "                        <td id=\"T_0cfb1cae_16fc_11eb_afab_40ec993079b9row2_col0\" class=\"data row2 col0\" >77</td>\n",
       "                        <td id=\"T_0cfb1cae_16fc_11eb_afab_40ec993079b9row2_col1\" class=\"data row2 col1\" >91</td>\n",
       "                        <td id=\"T_0cfb1cae_16fc_11eb_afab_40ec993079b9row2_col2\" class=\"data row2 col2\" >300</td>\n",
       "                        <td id=\"T_0cfb1cae_16fc_11eb_afab_40ec993079b9row2_col3\" class=\"data row2 col3\" >468</td>\n",
       "            </tr>\n",
       "            <tr>\n",
       "                                <th id=\"T_0cfb1cae_16fc_11eb_afab_40ec993079b9level1_row3\" class=\"row_heading level1 row3\" >1</th>\n",
       "                        <td id=\"T_0cfb1cae_16fc_11eb_afab_40ec993079b9row3_col0\" class=\"data row3 col0\" >45</td>\n",
       "                        <td id=\"T_0cfb1cae_16fc_11eb_afab_40ec993079b9row3_col1\" class=\"data row3 col1\" >17</td>\n",
       "                        <td id=\"T_0cfb1cae_16fc_11eb_afab_40ec993079b9row3_col2\" class=\"data row3 col2\" >47</td>\n",
       "                        <td id=\"T_0cfb1cae_16fc_11eb_afab_40ec993079b9row3_col3\" class=\"data row3 col3\" >109</td>\n",
       "            </tr>\n",
       "            <tr>\n",
       "                        <th id=\"T_0cfb1cae_16fc_11eb_afab_40ec993079b9level0_row4\" class=\"row_heading level0 row4\" >All</th>\n",
       "                        <th id=\"T_0cfb1cae_16fc_11eb_afab_40ec993079b9level1_row4\" class=\"row_heading level1 row4\" ></th>\n",
       "                        <td id=\"T_0cfb1cae_16fc_11eb_afab_40ec993079b9row4_col0\" class=\"data row4 col0\" >216</td>\n",
       "                        <td id=\"T_0cfb1cae_16fc_11eb_afab_40ec993079b9row4_col1\" class=\"data row4 col1\" >184</td>\n",
       "                        <td id=\"T_0cfb1cae_16fc_11eb_afab_40ec993079b9row4_col2\" class=\"data row4 col2\" >491</td>\n",
       "                        <td id=\"T_0cfb1cae_16fc_11eb_afab_40ec993079b9row4_col3\" class=\"data row4 col3\" >891</td>\n",
       "            </tr>\n",
       "    </tbody></table>"
      ],
      "text/plain": [
       "<pandas.io.formats.style.Styler at 0x1d0a4f48f08>"
      ]
     },
     "execution_count": 30,
     "metadata": {},
     "output_type": "execute_result"
    }
   ],
   "source": [
    "pd.crosstab([titanic.sex,titanic.survived],titanic.pclass,margins=True).style.background_gradient(cmap='summer_r')"
   ]
  },
  {
   "cell_type": "markdown",
   "metadata": {},
   "source": [
    "Question 3 : Number of survived/drowned passengers by age and gender?"
   ]
  },
  {
   "cell_type": "code",
   "execution_count": 31,
   "metadata": {},
   "outputs": [
    {
     "data": {
      "text/plain": [
       "<matplotlib.legend.Legend at 0x1d0a5012e48>"
      ]
     },
     "execution_count": 31,
     "metadata": {},
     "output_type": "execute_result"
    },
    {
     "data": {
      "image/png": "[encoded data removed]",
      "text/plain": [
       "<Figure size 1440x576 with 2 Axes>"
      ]
     },
     "metadata": {
      "needs_background": "light"
     },
     "output_type": "display_data"
    }
   ],
   "source": [
    "def age_buckets(x): \n",
    "    if x < 18: return '0-18' \n",
    "    elif x < 30: return '18-29'\n",
    "    elif x < 40: return '30-39' \n",
    "    elif x < 50: return '40-49' \n",
    "    elif x < 60: return '50-59' \n",
    "    elif x < 70: return '60-69' \n",
    "    elif x >=70: return '70+' \n",
    "    else: return 'other'\n",
    "    \n",
    "    \n",
    "titanic[\"age\"] = titanic[\"age\"].astype(int)\n",
    "\n",
    "titanic[\"age_range\"] = titanic[\"age\"].apply(lambda x: age_buckets(x))\n",
    "\n",
    "fig, (ax1,ax2) = plt.subplots(1,2, figsize=(20,8))  \n",
    "\n",
    "grouped_by_age_female = titanic[titanic[\"sex\"] == 'female'].groupby([\"age_range\"])[\"survived\"].value_counts().unstack()\n",
    "grouped_by_age_female.plot.bar(stacked=True, color=['#99CCFF', '#BCE2C8'], rot=0,ax=ax1, title=\"Number of female survived/drowned passengers age group\")\n",
    "ax1.legend(('Drowned', 'Survived'))\n",
    "\n",
    "grouped_by_age_men = titanic[titanic[\"sex\"] == 'male'].groupby([\"age_range\"])[\"survived\"].value_counts().unstack()\n",
    "grouped_by_age_men.plot.bar(stacked=True, color=['#99CCFF', '#BCE2C8'], rot=0,ax=ax2, title=\"Number of male survived/drowned passengers per age group\")\n",
    "ax2.legend(('Drowned', 'Survived'))\n"
   ]
  },
  {
   "cell_type": "markdown",
   "metadata": {},
   "source": [
    "Question 3 Comment:\n",
    "\n",
    "We can conclude that the number of female survivors per age group is higher than the number of females per age group that drowned.\n",
    "\n",
    "When looking at the number of male survivors, we can observe that male passenger were more likely to drown in all age groups."
   ]
  },
  {
   "cell_type": "markdown",
   "metadata": {},
   "source": [
    "Question 4 : What are the Passengers' survival/drowned distribution for passengers with parents / children on board?"
   ]
  },
  {
   "cell_type": "code",
   "execution_count": 32,
   "metadata": {},
   "outputs": [
    {
     "data": {
      "text/plain": [
       "<matplotlib.legend.Legend at 0x1d0a515f108>"
      ]
     },
     "execution_count": 32,
     "metadata": {},
     "output_type": "execute_result"
    },
    {
     "data": {
      "image/png": "[encoded data removed]",
      "text/plain": [
       "<Figure size 1440x576 with 2 Axes>"
      ]
     },
     "metadata": {
      "needs_background": "light"
     },
     "output_type": "display_data"
    }
   ],
   "source": [
    "fig, (ax1,ax2) = plt.subplots(1,2, figsize=(20,8)) \n",
    "\n",
    "grouped_by_family = titanic.groupby([\"parch\"])[\"survived\"].value_counts()\n",
    "grouped_by_family.unstack().plot.bar(stacked=True, color=['#99CCFF', '#BCE2C8'], rot=0,ax=ax1, title=\"Number of survived/drowned passengers per number of parents/children on board\")\n",
    "plt.legend(( 'Drowned', 'Survived'), loc=(1.04,0))\n",
    "ax1.legend(('Drowned', 'Survived'))\n",
    "\n",
    "grouped_by_family_norm = titanic.groupby([\"parch\"])[\"survived\"].value_counts(normalize=True)\n",
    "grouped_by_family_norm.unstack().plot.bar(stacked=True, color=['#99CCFF', '#BCE2C8'], rot=0,ax=ax2, title=\"Proportion of survived/drowned passengers per number of parents/children on board\")\n",
    "ax2.legend(('Drowned', 'Survived'))"
   ]
  },
  {
   "cell_type": "markdown",
   "metadata": {},
   "source": [
    "Question 4 Comment:\n",
    "\n",
    "We can see that the majority of the passengers traveled without children/parents. If traveling with children/parents, the chances of surviving have not been significantly higher."
   ]
  },
  {
   "cell_type": "markdown",
   "metadata": {},
   "source": [
    "Question 5: What is the proportion of survivors and non-survivors among siblings and spouse(except mistresses and fiancés )?\n"
   ]
  },
  {
   "cell_type": "code",
   "execution_count": 33,
   "metadata": {},
   "outputs": [
    {
     "data": {
      "image/png": "[encoded data removed]",
      "text/plain": [
       "<Figure size 720x576 with 1 Axes>"
      ]
     },
     "metadata": {
      "needs_background": "light"
     },
     "output_type": "display_data"
    }
   ],
   "source": [
    "grouped_by_sibsp = titanic.groupby('sibsp')['survived'].value_counts(normalize=True).unstack()\n",
    "grouped_by_sibsp.plot(kind='bar', color=[\"#99CCFF\", \"#BCE2C8\"], stacked=True, rot=0, figsize=(10,8), title=\"Number of survived/drowned passengers per number of siblings/spouses on board\")\n",
    "plt.legend(( 'Drowned', 'Survived'))\n",
    "\n",
    "plt.xlabel('Number of siblings/spouses')\n",
    "plt.ylabel('%')\n",
    "plt.show()"
   ]
  },
  {
   "cell_type": "markdown",
   "metadata": {},
   "source": [
    "Question 5 Comment:\n",
    "We can observe that the percentage of survivors that traveled with siblings/spouses of size 1 and 2 is bigger compared to single travelers. On the contrary when traveling with starting 3 siblings/spouses the percentage of surviving decreases."
   ]
  },
  {
   "cell_type": "markdown",
   "metadata": {},
   "source": [
    "# Visualization"
   ]
  },
  {
   "cell_type": "code",
   "execution_count": 34,
   "metadata": {},
   "outputs": [
    {
     "data": {
      "text/html": [
       "<div>\n",
       "<style scoped>\n",
       "    .dataframe tbody tr th:only-of-type {\n",
       "        vertical-align: middle;\n",
       "    }\n",
       "\n",
       "    .dataframe tbody tr th {\n",
       "        vertical-align: top;\n",
       "    }\n",
       "\n",
       "    .dataframe thead th {\n",
       "        text-align: right;\n",
       "    }\n",
       "</style>\n",
       "<table border=\"1\" class=\"dataframe\">\n",
       "  <thead>\n",
       "    <tr style=\"text-align: right;\">\n",
       "      <th></th>\n",
       "      <th>survived</th>\n",
       "      <th>pclass</th>\n",
       "      <th>age</th>\n",
       "      <th>sibsp</th>\n",
       "      <th>parch</th>\n",
       "      <th>fare</th>\n",
       "      <th>adult_male</th>\n",
       "      <th>alone</th>\n",
       "      <th>sex_data</th>\n",
       "      <th>embarked_data</th>\n",
       "    </tr>\n",
       "  </thead>\n",
       "  <tbody>\n",
       "    <tr>\n",
       "      <th>survived</th>\n",
       "      <td>1.0000</td>\n",
       "      <td>-0.3385</td>\n",
       "      <td>-0.0649</td>\n",
       "      <td>-0.0353</td>\n",
       "      <td>0.0816</td>\n",
       "      <td>0.2573</td>\n",
       "      <td>-0.5571</td>\n",
       "      <td>-0.2034</td>\n",
       "      <td>-0.5434</td>\n",
       "      <td>0.1068</td>\n",
       "    </tr>\n",
       "    <tr>\n",
       "      <th>pclass</th>\n",
       "      <td>-0.3385</td>\n",
       "      <td>1.0000</td>\n",
       "      <td>-0.3400</td>\n",
       "      <td>0.0831</td>\n",
       "      <td>0.0184</td>\n",
       "      <td>-0.5495</td>\n",
       "      <td>0.0940</td>\n",
       "      <td>0.1352</td>\n",
       "      <td>0.1319</td>\n",
       "      <td>0.0457</td>\n",
       "    </tr>\n",
       "    <tr>\n",
       "      <th>age</th>\n",
       "      <td>-0.0649</td>\n",
       "      <td>-0.3400</td>\n",
       "      <td>1.0000</td>\n",
       "      <td>-0.2331</td>\n",
       "      <td>-0.1727</td>\n",
       "      <td>0.0968</td>\n",
       "      <td>0.2477</td>\n",
       "      <td>0.1718</td>\n",
       "      <td>0.0807</td>\n",
       "      <td>-0.0095</td>\n",
       "    </tr>\n",
       "    <tr>\n",
       "      <th>sibsp</th>\n",
       "      <td>-0.0353</td>\n",
       "      <td>0.0831</td>\n",
       "      <td>-0.2331</td>\n",
       "      <td>1.0000</td>\n",
       "      <td>0.4148</td>\n",
       "      <td>0.1597</td>\n",
       "      <td>-0.2536</td>\n",
       "      <td>-0.5845</td>\n",
       "      <td>-0.1146</td>\n",
       "      <td>-0.0600</td>\n",
       "    </tr>\n",
       "    <tr>\n",
       "      <th>parch</th>\n",
       "      <td>0.0816</td>\n",
       "      <td>0.0184</td>\n",
       "      <td>-0.1727</td>\n",
       "      <td>0.4148</td>\n",
       "      <td>1.0000</td>\n",
       "      <td>0.2162</td>\n",
       "      <td>-0.3499</td>\n",
       "      <td>-0.5834</td>\n",
       "      <td>-0.2455</td>\n",
       "      <td>-0.0787</td>\n",
       "    </tr>\n",
       "    <tr>\n",
       "      <th>fare</th>\n",
       "      <td>0.2573</td>\n",
       "      <td>-0.5495</td>\n",
       "      <td>0.0968</td>\n",
       "      <td>0.1597</td>\n",
       "      <td>0.2162</td>\n",
       "      <td>1.0000</td>\n",
       "      <td>-0.1820</td>\n",
       "      <td>-0.2718</td>\n",
       "      <td>-0.1823</td>\n",
       "      <td>0.0621</td>\n",
       "    </tr>\n",
       "    <tr>\n",
       "      <th>adult_male</th>\n",
       "      <td>-0.5571</td>\n",
       "      <td>0.0940</td>\n",
       "      <td>0.2477</td>\n",
       "      <td>-0.2536</td>\n",
       "      <td>-0.3499</td>\n",
       "      <td>-0.1820</td>\n",
       "      <td>1.0000</td>\n",
       "      <td>0.4047</td>\n",
       "      <td>0.9086</td>\n",
       "      <td>-0.1085</td>\n",
       "    </tr>\n",
       "    <tr>\n",
       "      <th>alone</th>\n",
       "      <td>-0.2034</td>\n",
       "      <td>0.1352</td>\n",
       "      <td>0.1718</td>\n",
       "      <td>-0.5845</td>\n",
       "      <td>-0.5834</td>\n",
       "      <td>-0.2718</td>\n",
       "      <td>0.4047</td>\n",
       "      <td>1.0000</td>\n",
       "      <td>0.3036</td>\n",
       "      <td>0.0178</td>\n",
       "    </tr>\n",
       "    <tr>\n",
       "      <th>sex_data</th>\n",
       "      <td>-0.5434</td>\n",
       "      <td>0.1319</td>\n",
       "      <td>0.0807</td>\n",
       "      <td>-0.1146</td>\n",
       "      <td>-0.2455</td>\n",
       "      <td>-0.1823</td>\n",
       "      <td>0.9086</td>\n",
       "      <td>0.3036</td>\n",
       "      <td>1.0000</td>\n",
       "      <td>-0.1166</td>\n",
       "    </tr>\n",
       "    <tr>\n",
       "      <th>embarked_data</th>\n",
       "      <td>0.1068</td>\n",
       "      <td>0.0457</td>\n",
       "      <td>-0.0095</td>\n",
       "      <td>-0.0600</td>\n",
       "      <td>-0.0787</td>\n",
       "      <td>0.0621</td>\n",
       "      <td>-0.1085</td>\n",
       "      <td>0.0178</td>\n",
       "      <td>-0.1166</td>\n",
       "      <td>1.0000</td>\n",
       "    </tr>\n",
       "  </tbody>\n",
       "</table>\n",
       "</div>"
      ],
      "text/plain": [
       "               survived  pclass     age   sibsp   parch    fare  adult_male  \\\n",
       "survived         1.0000 -0.3385 -0.0649 -0.0353  0.0816  0.2573     -0.5571   \n",
       "pclass          -0.3385  1.0000 -0.3400  0.0831  0.0184 -0.5495      0.0940   \n",
       "age             -0.0649 -0.3400  1.0000 -0.2331 -0.1727  0.0968      0.2477   \n",
       "sibsp           -0.0353  0.0831 -0.2331  1.0000  0.4148  0.1597     -0.2536   \n",
       "parch            0.0816  0.0184 -0.1727  0.4148  1.0000  0.2162     -0.3499   \n",
       "fare             0.2573 -0.5495  0.0968  0.1597  0.2162  1.0000     -0.1820   \n",
       "adult_male      -0.5571  0.0940  0.2477 -0.2536 -0.3499 -0.1820      1.0000   \n",
       "alone           -0.2034  0.1352  0.1718 -0.5845 -0.5834 -0.2718      0.4047   \n",
       "sex_data        -0.5434  0.1319  0.0807 -0.1146 -0.2455 -0.1823      0.9086   \n",
       "embarked_data    0.1068  0.0457 -0.0095 -0.0600 -0.0787  0.0621     -0.1085   \n",
       "\n",
       "                alone  sex_data  embarked_data  \n",
       "survived      -0.2034   -0.5434         0.1068  \n",
       "pclass         0.1352    0.1319         0.0457  \n",
       "age            0.1718    0.0807        -0.0095  \n",
       "sibsp         -0.5845   -0.1146        -0.0600  \n",
       "parch         -0.5834   -0.2455        -0.0787  \n",
       "fare          -0.2718   -0.1823         0.0621  \n",
       "adult_male     0.4047    0.9086        -0.1085  \n",
       "alone          1.0000    0.3036         0.0178  \n",
       "sex_data       0.3036    1.0000        -0.1166  \n",
       "embarked_data  0.0178   -0.1166         1.0000  "
      ]
     },
     "execution_count": 34,
     "metadata": {},
     "output_type": "execute_result"
    }
   ],
   "source": [
    "#Sex and Embarked columns to check if there's any correlation between them and the Survived data\n",
    "\n",
    "titanic['sex_data'] = titanic['sex'].map({'male': 1,'female': 0})\n",
    "titanic['embarked_data'] = titanic['embarked'].map({'S': 0,'C': 1, 'Q': 2})\n",
    "titanic.corr()"
   ]
  },
  {
   "cell_type": "code",
   "execution_count": 35,
   "metadata": {},
   "outputs": [
    {
     "data": {
      "text/plain": [
       "Text(0.5, 1.0, 'Correlation')"
      ]
     },
     "execution_count": 35,
     "metadata": {},
     "output_type": "execute_result"
    },
    {
     "data": {
      "image/png": "[encoded data removed]",
      "text/plain": [
       "<Figure size 432x288 with 2 Axes>"
      ]
     },
     "metadata": {
      "needs_background": "light"
     },
     "output_type": "display_data"
    }
   ],
   "source": [
    "sns.heatmap(titanic.corr(), cmap='icefire')\n",
    "plt.title('Correlation', fontsize=24)\n",
    "#In our analysis we see a low correlation between embarked and sex."
   ]
  },
  {
   "cell_type": "code",
   "execution_count": 36,
   "metadata": {},
   "outputs": [
    {
     "data": {
      "text/plain": [
       "0    549\n",
       "1    342\n",
       "Name: survived, dtype: int64"
      ]
     },
     "execution_count": 36,
     "metadata": {},
     "output_type": "execute_result"
    }
   ],
   "source": [
    "#Visualization of 'Survived' (Target column)\n",
    "titanic.survived.value_counts()"
   ]
  },
  {
   "cell_type": "code",
   "execution_count": 37,
   "metadata": {},
   "outputs": [
    {
     "data": {
      "text/plain": [
       "Text(0, 0.5, 'Passenger Count')"
      ]
     },
     "execution_count": 37,
     "metadata": {},
     "output_type": "execute_result"
    },
    {
     "data": {
      "image/png": "[encoded data removed]",
      "text/plain": [
       "<Figure size 432x288 with 1 Axes>"
      ]
     },
     "metadata": {
      "needs_background": "light"
     },
     "output_type": "display_data"
    }
   ],
   "source": [
    "train = titanic.survived.value_counts().plot(kind='bar')\n",
    "train.set_xlabel('Survived or not')\n",
    "train.set_ylabel('Passenger Count')"
   ]
  },
  {
   "cell_type": "code",
   "execution_count": 38,
   "metadata": {},
   "outputs": [
    {
     "data": {
      "text/plain": [
       "Text(0, 0.5, 'Survival Probability')"
      ]
     },
     "execution_count": 38,
     "metadata": {},
     "output_type": "execute_result"
    },
    {
     "data": {
      "image/png": "[encoded data removed]",
      "text/plain": [
       "<Figure size 432x288 with 1 Axes>"
      ]
     },
     "metadata": {
      "needs_background": "light"
     },
     "output_type": "display_data"
    }
   ],
   "source": [
    "train = titanic[['pclass', 'survived']].groupby('pclass').mean().survived.plot(kind='bar')\n",
    "train.set_xlabel('pclass')\n",
    "train.set_ylabel('Survival Probability')"
   ]
  },
  {
   "cell_type": "code",
   "execution_count": 39,
   "metadata": {},
   "outputs": [
    {
     "data": {
      "text/plain": [
       "<AxesSubplot:xlabel='sex'>"
      ]
     },
     "execution_count": 39,
     "metadata": {},
     "output_type": "execute_result"
    },
    {
     "data": {
      "image/png": "[encoded data removed]",
      "text/plain": [
       "<Figure size 432x288 with 1 Axes>"
      ]
     },
     "metadata": {
      "needs_background": "light"
     },
     "output_type": "display_data"
    }
   ],
   "source": [
    "#Survival per Age/Sex\n",
    "grouped_by_sex = titanic.groupby([\"sex\"])[\"survived\"].value_counts()\n",
    "grouped_by_sex.unstack().plot.bar(stacked=True, color=['#99CCFF', '#BCE2C8'], rot=0)"
   ]
  }
 ],
 "metadata": {
  "kernelspec": {
   "display_name": "Python 3",
   "language": "python",
   "name": "python3"
  },
  "language_info": {
   "codemirror_mode": {
    "name": "ipython",
    "version": 3
   },
   "file_extension": ".py",
   "mimetype": "text/x-python",
   "name": "python",
   "nbconvert_exporter": "python",
   "pygments_lexer": "ipython3",
   "version": "3.7.6"
  },
  "varInspector": {
   "cols": {
    "lenName": 16,
    "lenType": 16,
    "lenVar": 40
   },
   "kernels_config": {
    "python": {
     "delete_cmd_postfix": "",
     "delete_cmd_prefix": "del ",
     "library": "var_list.py",
     "varRefreshCmd": "print(var_dic_list())"
    },
    "r": {
     "delete_cmd_postfix": ") ",
     "delete_cmd_prefix": "rm(",
     "library": "var_list.r",
     "varRefreshCmd": "cat(var_dic_list()) "
    }
   },
   "types_to_exclude": [
    "module",
    "function",
    "builtin_function_or_method",
    "instance",
    "_Feature"
   ],
   "window_display": false
  }
 },
 "nbformat": 4,
 "nbformat_minor": 4
}
